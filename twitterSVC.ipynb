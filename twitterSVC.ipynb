{
  "nbformat": 4,
  "nbformat_minor": 0,
  "metadata": {
    "colab": {
      "name": "twitterSVC.ipynb",
      "provenance": [],
      "collapsed_sections": [],
      "authorship_tag": "ABX9TyOaTRd4FGh1+nX09mgYTlJT",
      "include_colab_link": true
    },
    "kernelspec": {
      "name": "python3",
      "display_name": "Python 3"
    },
    "language_info": {
      "name": "python"
    }
  },
  "cells": [
    {
      "cell_type": "markdown",
      "metadata": {
        "id": "view-in-github",
        "colab_type": "text"
      },
      "source": [
        "<a href=\"https://colab.research.google.com/github/msam13/TwitterFakeID-Detection/blob/main/twitterSVC.ipynb\" target=\"_parent\"><img src=\"https://colab.research.google.com/assets/colab-badge.svg\" alt=\"Open In Colab\"/></a>"
      ]
    },
    {
      "cell_type": "code",
      "metadata": {
        "id": "0vwSMDSZZutS",
        "colab": {
          "base_uri": "https://localhost:8080/",
          "height": 473
        },
        "outputId": "9b9c3489-28f1-4c75-9d3e-63a7c5c9e682"
      },
      "source": [
        "from sklearn import datasets\n",
        "# Import train_test_split function\n",
        "from sklearn.model_selection import train_test_split\n",
        "from sklearn import svm\n",
        "#Import scikit-learn metrics module for accuracy calculation\n",
        "from sklearn import metrics\n",
        "import pandas as pd \n",
        "from sklearn.tree import DecisionTreeClassifier\n",
        "\n",
        "#Load dataset\n",
        "twit = pd.read_csv(r\"/content/mainDataSet.csv\")\n",
        "print(twit)\n",
        "twit.cov()"
      ],
      "execution_count": null,
      "outputs": [
        {
          "output_type": "stream",
          "text": [
            "     has_name  username_length  fr/fw round  has_profile  has_image  label\n",
            "0           1               13        1.000            1          1      1\n",
            "1           1                9        0.000            1          1      1\n",
            "2           1               13        0.031            1          1      1\n",
            "3           1               10        1.217            1          1      1\n",
            "4           1               15        0.957            1          1      1\n",
            "..        ...              ...          ...          ...        ...    ...\n",
            "994         1                9        0.988            1          0      0\n",
            "995         1                8        0.608            1          1      0\n",
            "996         1                8        0.085            1          0      0\n",
            "997         1               11        0.096            1          1      0\n",
            "998         1               12        0.018            1          1      0\n",
            "\n",
            "[999 rows x 6 columns]\n"
          ],
          "name": "stdout"
        },
        {
          "output_type": "execute_result",
          "data": {
            "text/html": [
              "<div>\n",
              "<style scoped>\n",
              "    .dataframe tbody tr th:only-of-type {\n",
              "        vertical-align: middle;\n",
              "    }\n",
              "\n",
              "    .dataframe tbody tr th {\n",
              "        vertical-align: top;\n",
              "    }\n",
              "\n",
              "    .dataframe thead th {\n",
              "        text-align: right;\n",
              "    }\n",
              "</style>\n",
              "<table border=\"1\" class=\"dataframe\">\n",
              "  <thead>\n",
              "    <tr style=\"text-align: right;\">\n",
              "      <th></th>\n",
              "      <th>has_name</th>\n",
              "      <th>username_length</th>\n",
              "      <th>fr/fw round</th>\n",
              "      <th>has_profile</th>\n",
              "      <th>has_image</th>\n",
              "      <th>label</th>\n",
              "    </tr>\n",
              "  </thead>\n",
              "  <tbody>\n",
              "    <tr>\n",
              "      <th>has_name</th>\n",
              "      <td>0.0</td>\n",
              "      <td>0.000000</td>\n",
              "      <td>0.000000</td>\n",
              "      <td>0.000000</td>\n",
              "      <td>0.000000</td>\n",
              "      <td>0.000000</td>\n",
              "    </tr>\n",
              "    <tr>\n",
              "      <th>username_length</th>\n",
              "      <td>0.0</td>\n",
              "      <td>6.873858</td>\n",
              "      <td>0.026201</td>\n",
              "      <td>-0.026897</td>\n",
              "      <td>0.033349</td>\n",
              "      <td>0.000910</td>\n",
              "    </tr>\n",
              "    <tr>\n",
              "      <th>fr/fw round</th>\n",
              "      <td>0.0</td>\n",
              "      <td>0.026201</td>\n",
              "      <td>0.292311</td>\n",
              "      <td>0.002431</td>\n",
              "      <td>0.000339</td>\n",
              "      <td>0.000353</td>\n",
              "    </tr>\n",
              "    <tr>\n",
              "      <th>has_profile</th>\n",
              "      <td>0.0</td>\n",
              "      <td>-0.026897</td>\n",
              "      <td>0.002431</td>\n",
              "      <td>0.027270</td>\n",
              "      <td>0.002353</td>\n",
              "      <td>0.000014</td>\n",
              "    </tr>\n",
              "    <tr>\n",
              "      <th>has_image</th>\n",
              "      <td>0.0</td>\n",
              "      <td>0.033349</td>\n",
              "      <td>0.000339</td>\n",
              "      <td>0.002353</td>\n",
              "      <td>0.198794</td>\n",
              "      <td>0.028694</td>\n",
              "    </tr>\n",
              "    <tr>\n",
              "      <th>label</th>\n",
              "      <td>0.0</td>\n",
              "      <td>0.000910</td>\n",
              "      <td>0.000353</td>\n",
              "      <td>0.000014</td>\n",
              "      <td>0.028694</td>\n",
              "      <td>0.250250</td>\n",
              "    </tr>\n",
              "  </tbody>\n",
              "</table>\n",
              "</div>"
            ],
            "text/plain": [
              "                 has_name  username_length  ...  has_image     label\n",
              "has_name              0.0         0.000000  ...   0.000000  0.000000\n",
              "username_length       0.0         6.873858  ...   0.033349  0.000910\n",
              "fr/fw round           0.0         0.026201  ...   0.000339  0.000353\n",
              "has_profile           0.0        -0.026897  ...   0.002353  0.000014\n",
              "has_image             0.0         0.033349  ...   0.198794  0.028694\n",
              "label                 0.0         0.000910  ...   0.028694  0.250250\n",
              "\n",
              "[6 rows x 6 columns]"
            ]
          },
          "metadata": {
            "tags": []
          },
          "execution_count": 1
        }
      ]
    },
    {
      "cell_type": "code",
      "metadata": {
        "colab": {
          "base_uri": "https://localhost:8080/",
          "height": 297
        },
        "id": "4YDFFmUw1PUK",
        "outputId": "6ac9efd7-8277-457d-adb4-1036541c082d"
      },
      "source": [
        "twit.describe()"
      ],
      "execution_count": null,
      "outputs": [
        {
          "output_type": "execute_result",
          "data": {
            "text/html": [
              "<div>\n",
              "<style scoped>\n",
              "    .dataframe tbody tr th:only-of-type {\n",
              "        vertical-align: middle;\n",
              "    }\n",
              "\n",
              "    .dataframe tbody tr th {\n",
              "        vertical-align: top;\n",
              "    }\n",
              "\n",
              "    .dataframe thead th {\n",
              "        text-align: right;\n",
              "    }\n",
              "</style>\n",
              "<table border=\"1\" class=\"dataframe\">\n",
              "  <thead>\n",
              "    <tr style=\"text-align: right;\">\n",
              "      <th></th>\n",
              "      <th>has_name</th>\n",
              "      <th>username_length</th>\n",
              "      <th>fr/fw round</th>\n",
              "      <th>has_profile</th>\n",
              "      <th>has_image</th>\n",
              "      <th>label</th>\n",
              "    </tr>\n",
              "  </thead>\n",
              "  <tbody>\n",
              "    <tr>\n",
              "      <th>count</th>\n",
              "      <td>999.0</td>\n",
              "      <td>999.000000</td>\n",
              "      <td>999.000000</td>\n",
              "      <td>999.000000</td>\n",
              "      <td>999.000000</td>\n",
              "      <td>999.000000</td>\n",
              "    </tr>\n",
              "    <tr>\n",
              "      <th>mean</th>\n",
              "      <td>1.0</td>\n",
              "      <td>11.184184</td>\n",
              "      <td>0.295930</td>\n",
              "      <td>0.971972</td>\n",
              "      <td>0.726727</td>\n",
              "      <td>0.500501</td>\n",
              "    </tr>\n",
              "    <tr>\n",
              "      <th>std</th>\n",
              "      <td>0.0</td>\n",
              "      <td>2.621804</td>\n",
              "      <td>0.540658</td>\n",
              "      <td>0.165136</td>\n",
              "      <td>0.445863</td>\n",
              "      <td>0.500250</td>\n",
              "    </tr>\n",
              "    <tr>\n",
              "      <th>min</th>\n",
              "      <td>1.0</td>\n",
              "      <td>4.000000</td>\n",
              "      <td>0.000000</td>\n",
              "      <td>0.000000</td>\n",
              "      <td>0.000000</td>\n",
              "      <td>0.000000</td>\n",
              "    </tr>\n",
              "    <tr>\n",
              "      <th>25%</th>\n",
              "      <td>1.0</td>\n",
              "      <td>9.000000</td>\n",
              "      <td>0.016000</td>\n",
              "      <td>1.000000</td>\n",
              "      <td>0.000000</td>\n",
              "      <td>0.000000</td>\n",
              "    </tr>\n",
              "    <tr>\n",
              "      <th>50%</th>\n",
              "      <td>1.0</td>\n",
              "      <td>11.000000</td>\n",
              "      <td>0.090000</td>\n",
              "      <td>1.000000</td>\n",
              "      <td>1.000000</td>\n",
              "      <td>1.000000</td>\n",
              "    </tr>\n",
              "    <tr>\n",
              "      <th>75%</th>\n",
              "      <td>1.0</td>\n",
              "      <td>13.000000</td>\n",
              "      <td>0.360000</td>\n",
              "      <td>1.000000</td>\n",
              "      <td>1.000000</td>\n",
              "      <td>1.000000</td>\n",
              "    </tr>\n",
              "    <tr>\n",
              "      <th>max</th>\n",
              "      <td>1.0</td>\n",
              "      <td>15.000000</td>\n",
              "      <td>4.495000</td>\n",
              "      <td>1.000000</td>\n",
              "      <td>1.000000</td>\n",
              "      <td>1.000000</td>\n",
              "    </tr>\n",
              "  </tbody>\n",
              "</table>\n",
              "</div>"
            ],
            "text/plain": [
              "       has_name  username_length  ...   has_image       label\n",
              "count     999.0       999.000000  ...  999.000000  999.000000\n",
              "mean        1.0        11.184184  ...    0.726727    0.500501\n",
              "std         0.0         2.621804  ...    0.445863    0.500250\n",
              "min         1.0         4.000000  ...    0.000000    0.000000\n",
              "25%         1.0         9.000000  ...    0.000000    0.000000\n",
              "50%         1.0        11.000000  ...    1.000000    1.000000\n",
              "75%         1.0        13.000000  ...    1.000000    1.000000\n",
              "max         1.0        15.000000  ...    1.000000    1.000000\n",
              "\n",
              "[8 rows x 6 columns]"
            ]
          },
          "metadata": {
            "tags": []
          },
          "execution_count": 2
        }
      ]
    },
    {
      "cell_type": "code",
      "metadata": {
        "colab": {
          "base_uri": "https://localhost:8080/",
          "height": 235
        },
        "id": "A1G0o1P61Dhx",
        "outputId": "3c54126a-9e91-40b3-e064-f3fb3a39849f"
      },
      "source": [
        "twit.corr()"
      ],
      "execution_count": null,
      "outputs": [
        {
          "output_type": "execute_result",
          "data": {
            "text/html": [
              "<div>\n",
              "<style scoped>\n",
              "    .dataframe tbody tr th:only-of-type {\n",
              "        vertical-align: middle;\n",
              "    }\n",
              "\n",
              "    .dataframe tbody tr th {\n",
              "        vertical-align: top;\n",
              "    }\n",
              "\n",
              "    .dataframe thead th {\n",
              "        text-align: right;\n",
              "    }\n",
              "</style>\n",
              "<table border=\"1\" class=\"dataframe\">\n",
              "  <thead>\n",
              "    <tr style=\"text-align: right;\">\n",
              "      <th></th>\n",
              "      <th>has_name</th>\n",
              "      <th>username_length</th>\n",
              "      <th>fr/fw round</th>\n",
              "      <th>has_profile</th>\n",
              "      <th>has_image</th>\n",
              "      <th>label</th>\n",
              "    </tr>\n",
              "  </thead>\n",
              "  <tbody>\n",
              "    <tr>\n",
              "      <th>has_name</th>\n",
              "      <td>NaN</td>\n",
              "      <td>NaN</td>\n",
              "      <td>NaN</td>\n",
              "      <td>NaN</td>\n",
              "      <td>NaN</td>\n",
              "      <td>NaN</td>\n",
              "    </tr>\n",
              "    <tr>\n",
              "      <th>username_length</th>\n",
              "      <td>NaN</td>\n",
              "      <td>1.000000</td>\n",
              "      <td>0.018484</td>\n",
              "      <td>-0.062124</td>\n",
              "      <td>0.028529</td>\n",
              "      <td>0.000694</td>\n",
              "    </tr>\n",
              "    <tr>\n",
              "      <th>fr/fw round</th>\n",
              "      <td>NaN</td>\n",
              "      <td>0.018484</td>\n",
              "      <td>1.000000</td>\n",
              "      <td>0.027227</td>\n",
              "      <td>0.001404</td>\n",
              "      <td>0.001304</td>\n",
              "    </tr>\n",
              "    <tr>\n",
              "      <th>has_profile</th>\n",
              "      <td>NaN</td>\n",
              "      <td>-0.062124</td>\n",
              "      <td>0.027227</td>\n",
              "      <td>1.000000</td>\n",
              "      <td>0.031959</td>\n",
              "      <td>0.000170</td>\n",
              "    </tr>\n",
              "    <tr>\n",
              "      <th>has_image</th>\n",
              "      <td>NaN</td>\n",
              "      <td>0.028529</td>\n",
              "      <td>0.001404</td>\n",
              "      <td>0.031959</td>\n",
              "      <td>1.000000</td>\n",
              "      <td>0.128648</td>\n",
              "    </tr>\n",
              "    <tr>\n",
              "      <th>label</th>\n",
              "      <td>NaN</td>\n",
              "      <td>0.000694</td>\n",
              "      <td>0.001304</td>\n",
              "      <td>0.000170</td>\n",
              "      <td>0.128648</td>\n",
              "      <td>1.000000</td>\n",
              "    </tr>\n",
              "  </tbody>\n",
              "</table>\n",
              "</div>"
            ],
            "text/plain": [
              "                 has_name  username_length  ...  has_image     label\n",
              "has_name              NaN              NaN  ...        NaN       NaN\n",
              "username_length       NaN         1.000000  ...   0.028529  0.000694\n",
              "fr/fw round           NaN         0.018484  ...   0.001404  0.001304\n",
              "has_profile           NaN        -0.062124  ...   0.031959  0.000170\n",
              "has_image             NaN         0.028529  ...   1.000000  0.128648\n",
              "label                 NaN         0.000694  ...   0.128648  1.000000\n",
              "\n",
              "[6 rows x 6 columns]"
            ]
          },
          "metadata": {
            "tags": []
          },
          "execution_count": 3
        }
      ]
    },
    {
      "cell_type": "code",
      "metadata": {
        "colab": {
          "base_uri": "https://localhost:8080/"
        },
        "id": "qqSl_VVdwhCu",
        "outputId": "e1617cba-a0ae-4b78-d383-6167f848343a"
      },
      "source": [
        "# print the names of the 13 features\n",
        "print(\"Features: \", twit.columns)\n",
        "# print the label type of twit('malignant' 'benign')\n",
        "print(\"Labels: \", twit.label)\n"
      ],
      "execution_count": null,
      "outputs": [
        {
          "output_type": "stream",
          "text": [
            "Features:  Index(['has_name', 'username_length', 'fr/fw round', 'has_profile',\n",
            "       'has_image', 'label'],\n",
            "      dtype='object')\n",
            "Labels:  0      1\n",
            "1      1\n",
            "2      1\n",
            "3      1\n",
            "4      1\n",
            "      ..\n",
            "994    0\n",
            "995    0\n",
            "996    0\n",
            "997    0\n",
            "998    0\n",
            "Name: label, Length: 999, dtype: int64\n"
          ],
          "name": "stdout"
        }
      ]
    },
    {
      "cell_type": "code",
      "metadata": {
        "id": "ovFk7ucLa97M"
      },
      "source": [
        ""
      ],
      "execution_count": null,
      "outputs": []
    },
    {
      "cell_type": "code",
      "metadata": {
        "colab": {
          "base_uri": "https://localhost:8080/"
        },
        "id": "NeX10zYtx2mP",
        "outputId": "7bbb616b-5e69-4ef7-ab49-f419a7c82e5c"
      },
      "source": [
        "twitcopy = twit.copy()\n",
        "del twitcopy[\"label\"]\n",
        "print(twitcopy)\n"
      ],
      "execution_count": null,
      "outputs": [
        {
          "output_type": "stream",
          "text": [
            "     has_name  username_length  fr/fw round  has_profile  has_image\n",
            "0           1               13        1.000            1          1\n",
            "1           1                9        0.000            1          1\n",
            "2           1               13        0.031            1          1\n",
            "3           1               10        1.217            1          1\n",
            "4           1               15        0.957            1          1\n",
            "..        ...              ...          ...          ...        ...\n",
            "994         1                9        0.988            1          0\n",
            "995         1                8        0.608            1          1\n",
            "996         1                8        0.085            1          0\n",
            "997         1               11        0.096            1          1\n",
            "998         1               12        0.018            1          1\n",
            "\n",
            "[999 rows x 5 columns]\n"
          ],
          "name": "stdout"
        }
      ]
    },
    {
      "cell_type": "code",
      "metadata": {
        "colab": {
          "base_uri": "https://localhost:8080/"
        },
        "id": "fZH_zqu8xVzT",
        "outputId": "a60f174b-6735-464a-e40e-0f8866127114"
      },
      "source": [
        "d = {}\n",
        "for i in range(50,91):\n",
        "  X_train, X_test, y_train, y_test = train_test_split(twitcopy, twit.label, train_size = i/100)\n",
        "  clf = svm.SVC(kernel='linear') # Linear Kernel\n",
        "  s = clf.fit(X_train, y_train)\n",
        "  y_pred = clf.predict(X_test)\n",
        "  Accuracy = metrics.accuracy_score(y_test, y_pred)\n",
        "  key = str(i)\n",
        "  d[key] = Accuracy\n",
        "\n",
        "for pair in d.items():\n",
        "  print(pair)"
      ],
      "execution_count": null,
      "outputs": [
        {
          "output_type": "stream",
          "text": [
            "('50', 0.456)\n",
            "('51', 0.5612244897959183)\n",
            "('52', 0.5541666666666667)\n",
            "('53', 0.5382978723404256)\n",
            "('54', 0.5543478260869565)\n",
            "('55', 0.5666666666666667)\n",
            "('56', 0.5431818181818182)\n",
            "('57', 0.5627906976744186)\n",
            "('58', 0.580952380952381)\n",
            "('59', 0.526829268292683)\n",
            "('60', 0.565)\n",
            "('61', 0.5307692307692308)\n",
            "('62', 0.5368421052631579)\n",
            "('63', 0.5513513513513514)\n",
            "('64', 0.5166666666666667)\n",
            "('65', 0.5914285714285714)\n",
            "('66', 0.5294117647058824)\n",
            "('67', 0.5696969696969697)\n",
            "('68', 0.546875)\n",
            "('69', 0.5709677419354838)\n",
            "('70', 0.5066666666666667)\n",
            "('71', 0.5655172413793104)\n",
            "('72', 0.5321428571428571)\n",
            "('73', 0.5777777777777777)\n",
            "('74', 0.5807692307692308)\n",
            "('75', 0.536)\n",
            "('76', 0.5291666666666667)\n",
            "('77', 0.5173913043478261)\n",
            "('78', 0.5181818181818182)\n",
            "('79', 0.5904761904761905)\n",
            "('80', 0.545)\n",
            "('81', 0.5368421052631579)\n",
            "('82', 0.5944444444444444)\n",
            "('83', 0.5941176470588235)\n",
            "('84', 0.54375)\n",
            "('85', 0.64)\n",
            "('86', 0.55)\n",
            "('87', 0.46153846153846156)\n",
            "('88', 0.5333333333333333)\n",
            "('89', 0.4909090909090909)\n",
            "('90', 0.53)\n"
          ],
          "name": "stdout"
        }
      ]
    },
    {
      "cell_type": "code",
      "metadata": {
        "id": "tUzFZkEp5Pvp"
      },
      "source": [
        ""
      ],
      "execution_count": null,
      "outputs": []
    },
    {
      "cell_type": "code",
      "metadata": {
        "colab": {
          "base_uri": "https://localhost:8080/",
          "height": 265
        },
        "id": "T2m_H7aZ8iV3",
        "outputId": "c357fedb-af2a-496e-c478-f3cac5f71195"
      },
      "source": [
        "import matplotlib.pyplot as plt\n",
        "plt.plot(list(d.keys()),list(d.values()))\n",
        "plt.show()"
      ],
      "execution_count": null,
      "outputs": [
        {
          "output_type": "display_data",
          "data": {
            "image/png": "[encoded data removed]",
            "text/plain": [
              "<Figure size 432x288 with 1 Axes>"
            ]
          },
          "metadata": {
            "tags": [],
            "needs_background": "light"
          }
        }
      ]
    },
    {
      "cell_type": "code",
      "metadata": {
        "colab": {
          "base_uri": "https://localhost:8080/"
        },
        "id": "wDfwd--6xYxK",
        "outputId": "0ce75b76-e612-478e-b30d-27bf400b6f19"
      },
      "source": [
        "#Predict the response for test dataset\n",
        "y_pred = clf.predict(X_test)\n",
        "# Model Accuracy: how often is the classifier correct?\n",
        "print(\"Accuracy:\",metrics.accuracy_score(y_test, y_pred))\n",
        "# Model Precision: what percentage of positive tuples are labeled as such?\n",
        "print(\"Precision:\",metrics.precision_score(y_test, y_pred))\n",
        "# Model Recall: what percentage of positive tuples are labelled as such?\n",
        "print(\"Recall:\",metrics.recall_score(y_test, y_pred))"
      ],
      "execution_count": null,
      "outputs": [
        {
          "output_type": "stream",
          "text": [
            "Accuracy: 0.488\n",
            "Precision: 0.4897959183673469\n",
            "Recall: 0.975609756097561\n"
          ],
          "name": "stdout"
        }
      ]
    },
    {
      "cell_type": "code",
      "metadata": {
        "id": "PUTriOi4cz54",
        "colab": {
          "base_uri": "https://localhost:8080/",
          "height": 442
        },
        "outputId": "a093662b-5f3e-43ff-e890-0c42c8214ae7"
      },
      "source": [
        "from sklearn import datasets\n",
        "from sklearn.model_selection import train_test_split\n",
        "from sklearn import svm\n",
        "from sklearn import metrics\n",
        "import pandas as pd \n",
        "from sklearn.tree import DecisionTreeClassifier\n",
        "\n",
        "#Load dataset\n",
        "twit = pd.read_csv(r\"database.csv\")\n",
        "d = {}\n",
        "for i in range(50,91):\n",
        "  X_train, X_test, y_train, y_test = train_test_split(twit, twit.label, train_size = i/100)\n",
        "  clf = svm.SVC(kernel='linear') # Linear Kernel\n",
        "  s = clf.fit(X_train, y_train)\n",
        "  y_pred = clf.predict(X_test)\n",
        "  Accuracy = metrics.accuracy_score(y_test, y_pred)\n",
        "  key = str(i)\n",
        "  d[key] = Accuracy\n",
        "\n",
        "for pair in d.items():\n",
        "  print(pair)"
      ],
      "execution_count": null,
      "outputs": [
        {
          "output_type": "error",
          "ename": "FileNotFoundError",
          "evalue": "ignored",
          "traceback": [
            "\u001b[0;31m---------------------------------------------------------------------------\u001b[0m",
            "\u001b[0;31mFileNotFoundError\u001b[0m                         Traceback (most recent call last)",
            "\u001b[0;32m<ipython-input-8-b25d02d49326>\u001b[0m in \u001b[0;36m<module>\u001b[0;34m()\u001b[0m\n\u001b[1;32m      7\u001b[0m \u001b[0;34m\u001b[0m\u001b[0m\n\u001b[1;32m      8\u001b[0m \u001b[0;31m#Load dataset\u001b[0m\u001b[0;34m\u001b[0m\u001b[0;34m\u001b[0m\u001b[0;34m\u001b[0m\u001b[0m\n\u001b[0;32m----> 9\u001b[0;31m \u001b[0mtwit\u001b[0m \u001b[0;34m=\u001b[0m \u001b[0mpd\u001b[0m\u001b[0;34m.\u001b[0m\u001b[0mread_csv\u001b[0m\u001b[0;34m(\u001b[0m\u001b[0;34mr\"database.csv\"\u001b[0m\u001b[0;34m)\u001b[0m\u001b[0;34m\u001b[0m\u001b[0;34m\u001b[0m\u001b[0m\n\u001b[0m\u001b[1;32m     10\u001b[0m \u001b[0md\u001b[0m \u001b[0;34m=\u001b[0m \u001b[0;34m{\u001b[0m\u001b[0;34m}\u001b[0m\u001b[0;34m\u001b[0m\u001b[0;34m\u001b[0m\u001b[0m\n\u001b[1;32m     11\u001b[0m \u001b[0;32mfor\u001b[0m \u001b[0mi\u001b[0m \u001b[0;32min\u001b[0m \u001b[0mrange\u001b[0m\u001b[0;34m(\u001b[0m\u001b[0;36m50\u001b[0m\u001b[0;34m,\u001b[0m\u001b[0;36m91\u001b[0m\u001b[0;34m)\u001b[0m\u001b[0;34m:\u001b[0m\u001b[0;34m\u001b[0m\u001b[0;34m\u001b[0m\u001b[0m\n",
            "\u001b[0;32m/usr/local/lib/python3.7/dist-packages/pandas/io/parsers.py\u001b[0m in \u001b[0;36mread_csv\u001b[0;34m(filepath_or_buffer, sep, delimiter, header, names, index_col, usecols, squeeze, prefix, mangle_dupe_cols, dtype, engine, converters, true_values, false_values, skipinitialspace, skiprows, skipfooter, nrows, na_values, keep_default_na, na_filter, verbose, skip_blank_lines, parse_dates, infer_datetime_format, keep_date_col, date_parser, dayfirst, cache_dates, iterator, chunksize, compression, thousands, decimal, lineterminator, quotechar, quoting, doublequote, escapechar, comment, encoding, dialect, error_bad_lines, warn_bad_lines, delim_whitespace, low_memory, memory_map, float_precision)\u001b[0m\n\u001b[1;32m    686\u001b[0m     )\n\u001b[1;32m    687\u001b[0m \u001b[0;34m\u001b[0m\u001b[0m\n\u001b[0;32m--> 688\u001b[0;31m     \u001b[0;32mreturn\u001b[0m \u001b[0m_read\u001b[0m\u001b[0;34m(\u001b[0m\u001b[0mfilepath_or_buffer\u001b[0m\u001b[0;34m,\u001b[0m \u001b[0mkwds\u001b[0m\u001b[0;34m)\u001b[0m\u001b[0;34m\u001b[0m\u001b[0;34m\u001b[0m\u001b[0m\n\u001b[0m\u001b[1;32m    689\u001b[0m \u001b[0;34m\u001b[0m\u001b[0m\n\u001b[1;32m    690\u001b[0m \u001b[0;34m\u001b[0m\u001b[0m\n",
            "\u001b[0;32m/usr/local/lib/python3.7/dist-packages/pandas/io/parsers.py\u001b[0m in \u001b[0;36m_read\u001b[0;34m(filepath_or_buffer, kwds)\u001b[0m\n\u001b[1;32m    452\u001b[0m \u001b[0;34m\u001b[0m\u001b[0m\n\u001b[1;32m    453\u001b[0m     \u001b[0;31m# Create the parser.\u001b[0m\u001b[0;34m\u001b[0m\u001b[0;34m\u001b[0m\u001b[0;34m\u001b[0m\u001b[0m\n\u001b[0;32m--> 454\u001b[0;31m     \u001b[0mparser\u001b[0m \u001b[0;34m=\u001b[0m \u001b[0mTextFileReader\u001b[0m\u001b[0;34m(\u001b[0m\u001b[0mfp_or_buf\u001b[0m\u001b[0;34m,\u001b[0m \u001b[0;34m**\u001b[0m\u001b[0mkwds\u001b[0m\u001b[0;34m)\u001b[0m\u001b[0;34m\u001b[0m\u001b[0;34m\u001b[0m\u001b[0m\n\u001b[0m\u001b[1;32m    455\u001b[0m \u001b[0;34m\u001b[0m\u001b[0m\n\u001b[1;32m    456\u001b[0m     \u001b[0;32mif\u001b[0m \u001b[0mchunksize\u001b[0m \u001b[0;32mor\u001b[0m \u001b[0miterator\u001b[0m\u001b[0;34m:\u001b[0m\u001b[0;34m\u001b[0m\u001b[0;34m\u001b[0m\u001b[0m\n",
            "\u001b[0;32m/usr/local/lib/python3.7/dist-packages/pandas/io/parsers.py\u001b[0m in \u001b[0;36m__init__\u001b[0;34m(self, f, engine, **kwds)\u001b[0m\n\u001b[1;32m    946\u001b[0m             \u001b[0mself\u001b[0m\u001b[0;34m.\u001b[0m\u001b[0moptions\u001b[0m\u001b[0;34m[\u001b[0m\u001b[0;34m\"has_index_names\"\u001b[0m\u001b[0;34m]\u001b[0m \u001b[0;34m=\u001b[0m \u001b[0mkwds\u001b[0m\u001b[0;34m[\u001b[0m\u001b[0;34m\"has_index_names\"\u001b[0m\u001b[0;34m]\u001b[0m\u001b[0;34m\u001b[0m\u001b[0;34m\u001b[0m\u001b[0m\n\u001b[1;32m    947\u001b[0m \u001b[0;34m\u001b[0m\u001b[0m\n\u001b[0;32m--> 948\u001b[0;31m         \u001b[0mself\u001b[0m\u001b[0;34m.\u001b[0m\u001b[0m_make_engine\u001b[0m\u001b[0;34m(\u001b[0m\u001b[0mself\u001b[0m\u001b[0;34m.\u001b[0m\u001b[0mengine\u001b[0m\u001b[0;34m)\u001b[0m\u001b[0;34m\u001b[0m\u001b[0;34m\u001b[0m\u001b[0m\n\u001b[0m\u001b[1;32m    949\u001b[0m \u001b[0;34m\u001b[0m\u001b[0m\n\u001b[1;32m    950\u001b[0m     \u001b[0;32mdef\u001b[0m \u001b[0mclose\u001b[0m\u001b[0;34m(\u001b[0m\u001b[0mself\u001b[0m\u001b[0;34m)\u001b[0m\u001b[0;34m:\u001b[0m\u001b[0;34m\u001b[0m\u001b[0;34m\u001b[0m\u001b[0m\n",
            "\u001b[0;32m/usr/local/lib/python3.7/dist-packages/pandas/io/parsers.py\u001b[0m in \u001b[0;36m_make_engine\u001b[0;34m(self, engine)\u001b[0m\n\u001b[1;32m   1178\u001b[0m     \u001b[0;32mdef\u001b[0m \u001b[0m_make_engine\u001b[0m\u001b[0;34m(\u001b[0m\u001b[0mself\u001b[0m\u001b[0;34m,\u001b[0m \u001b[0mengine\u001b[0m\u001b[0;34m=\u001b[0m\u001b[0;34m\"c\"\u001b[0m\u001b[0;34m)\u001b[0m\u001b[0;34m:\u001b[0m\u001b[0;34m\u001b[0m\u001b[0;34m\u001b[0m\u001b[0m\n\u001b[1;32m   1179\u001b[0m         \u001b[0;32mif\u001b[0m \u001b[0mengine\u001b[0m \u001b[0;34m==\u001b[0m \u001b[0;34m\"c\"\u001b[0m\u001b[0;34m:\u001b[0m\u001b[0;34m\u001b[0m\u001b[0;34m\u001b[0m\u001b[0m\n\u001b[0;32m-> 1180\u001b[0;31m             \u001b[0mself\u001b[0m\u001b[0;34m.\u001b[0m\u001b[0m_engine\u001b[0m \u001b[0;34m=\u001b[0m \u001b[0mCParserWrapper\u001b[0m\u001b[0;34m(\u001b[0m\u001b[0mself\u001b[0m\u001b[0;34m.\u001b[0m\u001b[0mf\u001b[0m\u001b[0;34m,\u001b[0m \u001b[0;34m**\u001b[0m\u001b[0mself\u001b[0m\u001b[0;34m.\u001b[0m\u001b[0moptions\u001b[0m\u001b[0;34m)\u001b[0m\u001b[0;34m\u001b[0m\u001b[0;34m\u001b[0m\u001b[0m\n\u001b[0m\u001b[1;32m   1181\u001b[0m         \u001b[0;32melse\u001b[0m\u001b[0;34m:\u001b[0m\u001b[0;34m\u001b[0m\u001b[0;34m\u001b[0m\u001b[0m\n\u001b[1;32m   1182\u001b[0m             \u001b[0;32mif\u001b[0m \u001b[0mengine\u001b[0m \u001b[0;34m==\u001b[0m \u001b[0;34m\"python\"\u001b[0m\u001b[0;34m:\u001b[0m\u001b[0;34m\u001b[0m\u001b[0;34m\u001b[0m\u001b[0m\n",
            "\u001b[0;32m/usr/local/lib/python3.7/dist-packages/pandas/io/parsers.py\u001b[0m in \u001b[0;36m__init__\u001b[0;34m(self, src, **kwds)\u001b[0m\n\u001b[1;32m   2008\u001b[0m         \u001b[0mkwds\u001b[0m\u001b[0;34m[\u001b[0m\u001b[0;34m\"usecols\"\u001b[0m\u001b[0;34m]\u001b[0m \u001b[0;34m=\u001b[0m \u001b[0mself\u001b[0m\u001b[0;34m.\u001b[0m\u001b[0musecols\u001b[0m\u001b[0;34m\u001b[0m\u001b[0;34m\u001b[0m\u001b[0m\n\u001b[1;32m   2009\u001b[0m \u001b[0;34m\u001b[0m\u001b[0m\n\u001b[0;32m-> 2010\u001b[0;31m         \u001b[0mself\u001b[0m\u001b[0;34m.\u001b[0m\u001b[0m_reader\u001b[0m \u001b[0;34m=\u001b[0m \u001b[0mparsers\u001b[0m\u001b[0;34m.\u001b[0m\u001b[0mTextReader\u001b[0m\u001b[0;34m(\u001b[0m\u001b[0msrc\u001b[0m\u001b[0;34m,\u001b[0m \u001b[0;34m**\u001b[0m\u001b[0mkwds\u001b[0m\u001b[0;34m)\u001b[0m\u001b[0;34m\u001b[0m\u001b[0;34m\u001b[0m\u001b[0m\n\u001b[0m\u001b[1;32m   2011\u001b[0m         \u001b[0mself\u001b[0m\u001b[0;34m.\u001b[0m\u001b[0munnamed_cols\u001b[0m \u001b[0;34m=\u001b[0m \u001b[0mself\u001b[0m\u001b[0;34m.\u001b[0m\u001b[0m_reader\u001b[0m\u001b[0;34m.\u001b[0m\u001b[0munnamed_cols\u001b[0m\u001b[0;34m\u001b[0m\u001b[0;34m\u001b[0m\u001b[0m\n\u001b[1;32m   2012\u001b[0m \u001b[0;34m\u001b[0m\u001b[0m\n",
            "\u001b[0;32mpandas/_libs/parsers.pyx\u001b[0m in \u001b[0;36mpandas._libs.parsers.TextReader.__cinit__\u001b[0;34m()\u001b[0m\n",
            "\u001b[0;32mpandas/_libs/parsers.pyx\u001b[0m in \u001b[0;36mpandas._libs.parsers.TextReader._setup_parser_source\u001b[0;34m()\u001b[0m\n",
            "\u001b[0;31mFileNotFoundError\u001b[0m: [Errno 2] No such file or directory: 'database.csv'"
          ]
        }
      ]
    }
  ]
}